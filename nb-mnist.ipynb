{
  "nbformat": 4,
  "nbformat_minor": 0,
  "metadata": {
    "colab": {
      "name": "problem9.ipynb",
      "provenance": [],
      "collapsed_sections": []
    },
    "kernelspec": {
      "display_name": "Python 3",
      "name": "python3"
    }
  },
  "cells": [
    {
      "cell_type": "code",
      "metadata": {
        "id": "XipaDgm3ZmLu"
      },
      "source": [
        "import pandas as pd\n",
        "import numpy as np\n",
        "from scipy.stats import norm\n",
        "from sklearn.metrics import accuracy_score\n",
        "from sklearn.metrics import f1_score\n",
        "from sklearn.naive_bayes import GaussianNB"
      ],
      "execution_count": 196,
      "outputs": []
    },
    {
      "cell_type": "code",
      "metadata": {
        "id": "ThOsbv06apfd"
      },
      "source": [
        "x_train, x_test, y_train, y_test = pd.read_csv('trainData.csv'), pd.read_csv('testData.csv'), pd.read_csv('trainLabels.csv'), pd.read_csv('testLabels.csv')\n"
      ],
      "execution_count": 189,
      "outputs": []
    },
    {
      "cell_type": "code",
      "metadata": {
        "id": "EwnqwtiBcABH"
      },
      "source": [
        "x_train = x_train.to_numpy().astype('float')\n",
        "x_test = x_test.to_numpy().astype('float')\n",
        "\n",
        "y_train = y_train.to_numpy().astype('float').squeeze()\n",
        "y_test = y_test.to_numpy().astype('float').squeeze()\n"
      ],
      "execution_count": 190,
      "outputs": []
    },
    {
      "cell_type": "code",
      "metadata": {
        "id": "Cmz6VBmIb5Y9"
      },
      "source": [
        "class_idx = [np.where(y_train == c)[0] for c in range(10)]\n",
        "means = []\n",
        "stds = []\n",
        "\n",
        "for c in range(10):\n",
        "  means.append(x_train[class_idx[c], :].mean(axis=0))\n",
        "  stds.append(x_train[class_idx[c], :].std(axis=0))\n",
        "\n",
        "means = np.array(means)\n",
        "stds = np.array(stds)\n",
        "\n",
        "u, c = np.unique(y_train, return_counts=True)\n",
        "pc_s = c / c.sum()\n"
      ],
      "execution_count": 191,
      "outputs": []
    },
    {
      "cell_type": "code",
      "metadata": {
        "id": "0nyEXr2pgjge"
      },
      "source": [
        "norms = []\n",
        "for cnt in range(x_test.shape[1]):\n",
        "  cs = []\n",
        "  for c in range(10):\n",
        "    if stds[c, cnt] == 0:\n",
        "      cs.append(np.ones(x_test.shape[0]))\n",
        "    else:\n",
        "      cs.append(norm.pdf(x_test[:, cnt], loc=means[c, cnt], scale=stds[c, cnt]))  \n",
        "  \n",
        "  norms.append(cs)\n",
        "    \n",
        "\n"
      ],
      "execution_count": 192,
      "outputs": []
    },
    {
      "cell_type": "code",
      "metadata": {
        "colab": {
          "base_uri": "https://localhost:8080/"
        },
        "id": "DUfkeO_ynuk6",
        "outputId": "7cb49ea7-9b27-4327-9cb6-c3640e099e08"
      },
      "source": [
        "    \n",
        "norms = np.array(norms).transpose((2, 1, 0))\n",
        "print(norms.shape)\n",
        "norms = norms.prod(axis = 2)\n",
        "\n",
        "print(norms.shape)\n",
        "norms = np.multiply(norms, pc_s)\n",
        "print(norms.shape)\n",
        "norms = norms.argmax(axis=1)\n"
      ],
      "execution_count": 193,
      "outputs": [
        {
          "output_type": "stream",
          "text": [
            "(2499, 10, 196)\n",
            "(2499, 10)\n",
            "(2499, 10)\n"
          ],
          "name": "stdout"
        }
      ]
    },
    {
      "cell_type": "code",
      "metadata": {
        "id": "7saXK1pEpp8u",
        "colab": {
          "base_uri": "https://localhost:8080/"
        },
        "outputId": "2e4656a2-52d8-418f-d40a-128184b97c4b"
      },
      "source": [
        "acc = accuracy_score(y_test, norms)\n",
        "f1 = f1_score(y_test, norms, average='macro')\n",
        "print(acc, f1)"
      ],
      "execution_count": 199,
      "outputs": [
        {
          "output_type": "stream",
          "text": [
            "0.6410564225690276 0.6025507165301931\n"
          ],
          "name": "stdout"
        }
      ]
    },
    {
      "cell_type": "code",
      "metadata": {
        "colab": {
          "base_uri": "https://localhost:8080/"
        },
        "id": "j7UeFM1-1x88",
        "outputId": "76256752-2e20-4324-eacf-f83e15d4e18d"
      },
      "source": [
        "nb = GaussianNB()\n",
        "preds = nb.fit(x_train, y_train).predict(x_test)\n",
        "acc = accuracy_score(y_test, preds)\n",
        "f1 = f1_score(y_test, preds, average='macro')\n",
        "print(acc, f1)\n"
      ],
      "execution_count": 201,
      "outputs": [
        {
          "output_type": "stream",
          "text": [
            "0.5070028011204482 0.47201625559743016\n"
          ],
          "name": "stdout"
        }
      ]
    }
  ]
}